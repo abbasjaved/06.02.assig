{
 "cells": [
  {
   "cell_type": "code",
   "execution_count": 1,
   "id": "bd5ae4ab-3d81-49b0-9698-d5c9053c301c",
   "metadata": {},
   "outputs": [],
   "source": [
    "#Solution 1"
   ]
  },
  {
   "cell_type": "code",
   "execution_count": 13,
   "id": "3d31cbe8-58b5-47c2-b476-ad6f8f895a0a",
   "metadata": {},
   "outputs": [],
   "source": [
    "list1 = [1,2,3,4, [44,55,66, True], False, (34,56,78,89,34), {1,2,3,3,2,1}, {1:34, \"key2\": [55, 67, 78, 89], 4: (45,\n",
    "22, 61, 34)}, [56, 'data science'], 'Machine Learning']"
   ]
  },
  {
   "cell_type": "code",
   "execution_count": 14,
   "id": "85ee1f77-ec5b-47ca-afcb-4bbf615def74",
   "metadata": {},
   "outputs": [
    {
     "data": {
      "text/plain": [
       "[1,\n",
       " 2,\n",
       " 3,\n",
       " 4,\n",
       " [44, 55, 66, True],\n",
       " False,\n",
       " (34, 56, 78, 89, 34),\n",
       " {1, 2, 3},\n",
       " {1: 34, 'key2': [55, 67, 78, 89], 4: (45, 22, 61, 34)},\n",
       " [56, 'data science'],\n",
       " 'Machine Learning']"
      ]
     },
     "execution_count": 14,
     "metadata": {},
     "output_type": "execute_result"
    }
   ],
   "source": [
    "list1"
   ]
  },
  {
   "cell_type": "code",
   "execution_count": 30,
   "id": "55beae0d-d78a-421e-8cf1-59415cb75a12",
   "metadata": {},
   "outputs": [],
   "source": [
    "def test(a):\n",
    "    l = []\n",
    "    for i in a:\n",
    "        if type(i) == list:\n",
    "            for j in i:\n",
    "                \n",
    "                l.append(j)\n",
    "        else:\n",
    "            if type(i) == dict:\n",
    "                for j in i:\n",
    "                    if type(j) == int:\n",
    "                        \n",
    "                         l.append(j)\n",
    "    return l  "
   ]
  },
  {
   "cell_type": "code",
   "execution_count": 31,
   "id": "ccf2c1aa-b6d7-4972-8351-5280f4f48065",
   "metadata": {},
   "outputs": [
    {
     "data": {
      "text/plain": [
       "[44, 55, 66, True, 1, 4, 56, 'data science']"
      ]
     },
     "execution_count": 31,
     "metadata": {},
     "output_type": "execute_result"
    }
   ],
   "source": [
    "test(list1)"
   ]
  },
  {
   "cell_type": "code",
   "execution_count": 34,
   "id": "e2f4fb4a-f129-4d02-8dc9-94d621d2da2f",
   "metadata": {},
   "outputs": [
    {
     "data": {
      "text/plain": [
       "'friend. The logic of encryption\\nshould be such that, for a the output should be z. For b, the output should be y. For c, the output should\\nbe x respectively. Also, the whitespace should be replaced with a dollar sign.'"
      ]
     },
     "execution_count": 34,
     "metadata": {},
     "output_type": "execute_result"
    }
   ],
   "source": [
    "#'''The logic of encryption\n",
    "should be such that, for a the output should be z. For b, the output should be y. For c, the output should\n",
    "be x respectively. Also, the whitespace should be replaced with a dollar sign.'''"
   ]
  },
  {
   "cell_type": "code",
   "execution_count": null,
   "id": "33e20d88-1f04-4d2f-b4cc-129e7901ee73",
   "metadata": {},
   "outputs": [],
   "source": []
  }
 ],
 "metadata": {
  "kernelspec": {
   "display_name": "Python 3 (ipykernel)",
   "language": "python",
   "name": "python3"
  },
  "language_info": {
   "codemirror_mode": {
    "name": "ipython",
    "version": 3
   },
   "file_extension": ".py",
   "mimetype": "text/x-python",
   "name": "python",
   "nbconvert_exporter": "python",
   "pygments_lexer": "ipython3",
   "version": "3.10.8"
  }
 },
 "nbformat": 4,
 "nbformat_minor": 5
}
